{
 "cells": [
  {
   "cell_type": "markdown",
   "id": "7259276e-ff2b-45f7-a261-4b57ac0d1cab",
   "metadata": {},
   "source": [
    "# **K-Compress: Image Compression using K-Means**"
   ]
  },
  {
   "cell_type": "code",
   "execution_count": 1,
   "id": "15582aca-a6b2-48a8-a98a-35dcec7d0546",
   "metadata": {},
   "outputs": [],
   "source": [
    "import cv2\n",
    "import numpy as np\n",
    "import matplotlib.pyplot as plt\n",
    "import pandas as pd\n",
    "import os\n",
    "import sys\n",
    "import time\n",
    "import imageio"
   ]
  },
  {
   "cell_type": "code",
   "execution_count": 2,
   "id": "8831a431-c95f-4f00-ae4e-26657cb9ac95",
   "metadata": {},
   "outputs": [],
   "source": [
    "def euclidean_distance(sample, centroids):\n",
    "\n",
    "    return np.sqrt(np.sum((sample - centroids)**2, axis=1))"
   ]
  },
  {
   "cell_type": "code",
   "execution_count": 3,
   "id": "f321065d-fa7e-47ae-a0d1-0ab241614bc7",
   "metadata": {},
   "outputs": [],
   "source": [
    "def initCentroids(X, K):\n",
    "\n",
    "    randidx = np.random.randint(0, X.shape[0], K)\n",
    "    \n",
    "    centroids = X[randidx,:]\n",
    "\n",
    "    return centroids"
   ]
  },
  {
   "cell_type": "code",
   "execution_count": 4,
   "id": "0da0f973-c9f5-4337-b037-de4279cfec2f",
   "metadata": {},
   "outputs": [],
   "source": [
    "def assignClusters(X, centroids): \n",
    "\n",
    "    K = centroids.shape[0]\n",
    "    m = X.shape[0]\n",
    "\n",
    "    C = np.zeros((m,1))\n",
    "    \n",
    "    for i in range(m):\n",
    "        distances = euclidean_distance(X[i,:], centroids)\n",
    "        C[i] = np.argmin(distances)\n",
    "\n",
    "    return C"
   ]
  },
  {
   "cell_type": "code",
   "execution_count": 5,
   "id": "706d906a-5e87-4e7d-b505-2122d1445df6",
   "metadata": {},
   "outputs": [],
   "source": [
    "def recenterCentroids(X, C, K):\n",
    "    \n",
    "    m,n = X.shape\n",
    "    \n",
    "    df = pd.DataFrame(X)\n",
    "    df.insert(n,\"cluster\",C)\n",
    "    \n",
    "    centroids = df.groupby(by='cluster').mean().values\n",
    "    \n",
    "    return centroids"
   ]
  },
  {
   "cell_type": "code",
   "execution_count": 6,
   "id": "285e0bb1-0b90-4c55-9bcc-c9df7b96099d",
   "metadata": {},
   "outputs": [],
   "source": [
    "def calculate_cost(X, centroids, cluster):\n",
    "    # Within-Cluster Sum of Square\n",
    "    \n",
    "    C=cluster\n",
    "    C = C.squeeze()\n",
    "    cost = 0\n",
    "    \n",
    "    K = centroids.shape[0]\n",
    "    \n",
    "    for i in range(K):\n",
    "        cost+= np.sum((X[C==i]-centroids[i])**2)\n",
    "    \n",
    "    return cost"
   ]
  },
  {
   "cell_type": "code",
   "execution_count": 7,
   "id": "5d87e6e1-099f-468a-a940-d8017fea088e",
   "metadata": {},
   "outputs": [],
   "source": [
    "def KMeans(X, K):\n",
    "    \n",
    "    tic = time.time()\n",
    "    \n",
    "    centroids = initCentroids(X, K)\n",
    "    \n",
    "    different = True\n",
    "    i = 0\n",
    "    centroids_history = []\n",
    "\n",
    "    while different:\n",
    "        \n",
    "        centroids_history.append(centroids)\n",
    "        \n",
    "        i+=1\n",
    "\n",
    "        C = assignClusters(X, centroids)\n",
    "\n",
    "        centroids = recenterCentroids(X, C, K)\n",
    "    \n",
    "        if np.array_equal(centroids_history[-1], centroids) :\n",
    "            different=False\n",
    "            \n",
    "        if i%20 == 0:\n",
    "            Ct = predict(X, centroids)\n",
    "            cost = calculate_cost(X, centroids, Ct)\n",
    "            \n",
    "            print(\"Iteration: {} , Cost: {}\".format(i, cost))\n",
    "\n",
    "\n",
    "    Ct = predict(X, centroids)\n",
    "    cost = calculate_cost(X, centroids, Ct)\n",
    "            \n",
    "    print(\"Iteration: {} , Cost: {}\\n\".format(i, cost))\n",
    "      \n",
    "    toc = time.time()\n",
    "    print('\\nTraining Complete in {} mins after {} iterations'.format(np.round((toc-tic)/60),i))\n",
    "        \n",
    "    return centroids"
   ]
  },
  {
   "cell_type": "code",
   "execution_count": null,
   "id": "48447554-8281-4252-b1e3-0b67c5739775",
   "metadata": {},
   "outputs": [],
   "source": []
  },
  {
   "cell_type": "code",
   "execution_count": 8,
   "id": "2cabacd6-0985-4b97-adc6-3d3b1ad6deec",
   "metadata": {},
   "outputs": [],
   "source": [
    "def predict(X_test, centroids):\n",
    "    \n",
    "    C = assignClusters(X_test, centroids)\n",
    "    \n",
    "    return C"
   ]
  },
  {
   "cell_type": "code",
   "execution_count": null,
   "id": "453b0af6-b2bc-472a-8477-fa2a2e4ea78d",
   "metadata": {},
   "outputs": [],
   "source": []
  },
  {
   "cell_type": "markdown",
   "id": "02435d44-3cca-4ae2-beef-d77d2546a3e0",
   "metadata": {},
   "source": [
    "### Select 16 Colors"
   ]
  },
  {
   "cell_type": "code",
   "execution_count": 9,
   "id": "be8c8fe8-e242-48dc-a125-4db1504bab0f",
   "metadata": {},
   "outputs": [],
   "source": [
    "input_folder = \"input_image/\"\n",
    "input_filename = input_folder + os.listdir(input_folder)[0]"
   ]
  },
  {
   "cell_type": "code",
   "execution_count": 10,
   "id": "4caffee9-db9c-4236-a84b-b3592992503f",
   "metadata": {},
   "outputs": [],
   "source": [
    "img = cv2.imread(input_filename, cv2.IMREAD_COLOR)\n",
    "img = cv2.cvtColor(img, cv2.COLOR_BGR2RGB)"
   ]
  },
  {
   "cell_type": "code",
   "execution_count": 11,
   "id": "6bce784e-4c58-400f-b0b7-86a4b5853e8e",
   "metadata": {},
   "outputs": [],
   "source": [
    "img = img/255"
   ]
  },
  {
   "cell_type": "code",
   "execution_count": 12,
   "id": "b81e2c5e-5002-47b6-9456-eb1f94cc009c",
   "metadata": {},
   "outputs": [
    {
     "name": "stdout",
     "output_type": "stream",
     "text": [
      "Shape of input image:  (1280, 1920, 3)\n"
     ]
    }
   ],
   "source": [
    "print(\"Shape of input image: \", img.shape)\n",
    "orig_shape = img.shape"
   ]
  },
  {
   "cell_type": "code",
   "execution_count": 13,
   "id": "4045db53-7872-4dc0-8e54-db2fe6533ecc",
   "metadata": {},
   "outputs": [],
   "source": [
    "# Image is reshaped into an m x 3 matrix, where m is the total pixels in the image\n",
    "# Each row represents 1 pixel\n",
    "\n",
    "X = np.reshape(img, (img.shape[0] * img.shape[1], 3))"
   ]
  },
  {
   "cell_type": "code",
   "execution_count": 14,
   "id": "156e97f3-f324-4c48-b7c5-5bb4244d04ed",
   "metadata": {},
   "outputs": [
    {
     "data": {
      "text/plain": [
       "(2457600, 3)"
      ]
     },
     "execution_count": 14,
     "metadata": {},
     "output_type": "execute_result"
    }
   ],
   "source": [
    "X.shape"
   ]
  },
  {
   "cell_type": "code",
   "execution_count": null,
   "id": "befada1d-7a13-4568-b388-a693f15fe8db",
   "metadata": {},
   "outputs": [
    {
     "name": "stdout",
     "output_type": "stream",
     "text": [
      "Iteration: 20 , Cost: 3590.0588507484836\n",
      "Iteration: 40 , Cost: 3342.4116097798287\n",
      "Iteration: 60 , Cost: 3215.4512286993704\n",
      "Iteration: 80 , Cost: 3121.993475359793\n",
      "Iteration: 100 , Cost: 3069.219164973546\n",
      "Iteration: 120 , Cost: 3039.8624041460093\n",
      "Iteration: 140 , Cost: 3016.22677479921\n"
     ]
    }
   ],
   "source": [
    "K = 16\n",
    "\n",
    "centroids = KMeans(X, K)"
   ]
  },
  {
   "cell_type": "code",
   "execution_count": null,
   "id": "f4fd3a93-b2dd-44e6-afca-2d8451aa6247",
   "metadata": {},
   "outputs": [],
   "source": []
  },
  {
   "cell_type": "markdown",
   "id": "7869f15b-314d-4b8b-912d-aad9a53fd21d",
   "metadata": {},
   "source": [
    "### Compress Image:"
   ]
  },
  {
   "cell_type": "code",
   "execution_count": null,
   "id": "790997bc-da63-4f95-9cae-f801b12a9793",
   "metadata": {
    "tags": []
   },
   "outputs": [],
   "source": [
    "output_folder = \"compressed_image/\""
   ]
  },
  {
   "cell_type": "raw",
   "id": "5a063126-d8d4-4f9a-86a4-fe56e45cba55",
   "metadata": {},
   "source": [
    "Mapping each pixel of the image to the selected 16 colors\n",
    "Image is now represented in terms of indices of clusters in C and the cluster centroids (i.e. 16 colors)"
   ]
  },
  {
   "cell_type": "code",
   "execution_count": null,
   "id": "e92d0167-fa78-4940-9bef-7dc6d5e6c2b3",
   "metadata": {},
   "outputs": [],
   "source": [
    "C = predict(X, centroids)"
   ]
  },
  {
   "cell_type": "code",
   "execution_count": null,
   "id": "3e5cea3e-4199-47cc-8f0a-c09600b2a66e",
   "metadata": {
    "tags": []
   },
   "outputs": [],
   "source": [
    "C = C.astype(np.int8).squeeze()"
   ]
  },
  {
   "cell_type": "code",
   "execution_count": null,
   "id": "3d9ba637-dc51-4e08-82dd-8d79fe79a13c",
   "metadata": {
    "tags": []
   },
   "outputs": [],
   "source": [
    "def merge_to_byte(C):\n",
    "    \"\"\"as the smallest data type in python is of size 1 byte\n",
    "    The merge_to_byte function takes two 4-bit numbers (actually 1 bytes) as input \n",
    "    and combines them into a single byte\"\"\"\n",
    "    \n",
    "    packed_bytes = []\n",
    "    \n",
    "    for i in range(0, C.shape[0], 2):\n",
    "\n",
    "        n2 = C[i+1] << 4\n",
    "        packed_byte = n2 | C[i]\n",
    "        \n",
    "        packed_bytes.append(packed_byte)\n",
    "        \n",
    "    return np.array(packed_bytes, dtype=np.uint8)"
   ]
  },
  {
   "cell_type": "code",
   "execution_count": null,
   "id": "7fdc450f-a68d-4c2b-9c61-a24a5505737e",
   "metadata": {
    "tags": []
   },
   "outputs": [],
   "source": [
    "def save_as_RGB(packed_bytes):\n",
    "    \n",
    "    m = packed_bytes.shape[0]\n",
    "    \n",
    "    dim = np.ceil(np.sqrt(m/3))\n",
    "    dim = int(dim)\n",
    "    tot = dim * dim * 3\n",
    "    pad = int(tot - m)\n",
    "    \n",
    "    padding = np.array([1] * pad, dtype=np.uint8)\n",
    "\n",
    "    padded_packed_bytes = np.append(packed_bytes, padding)\n",
    "    \n",
    "    tmp = np.reshape(padded_packed_bytes, (dim, dim, 3))\n",
    "    \n",
    "    imageio.imwrite(output_folder+\"color_mapping_image_RGB.png\", tmp)\n",
    "    \n",
    "    return pad"
   ]
  },
  {
   "cell_type": "code",
   "execution_count": null,
   "id": "a1696ab5-2723-468f-bb49-4e74fc2f0b7e",
   "metadata": {
    "tags": []
   },
   "outputs": [],
   "source": [
    "def save_as_grey(packed_bytes, orig_shape):\n",
    "    \n",
    "    l, b, _ = orig_shape\n",
    "    \n",
    "    if l > b:\n",
    "        l = int(l/2)\n",
    "    else:\n",
    "        b = int(b/2)\n",
    "    \n",
    "    tmp = np.reshape(packed_bytes, (l,b))\n",
    "    \n",
    "    imageio.imwrite(output_folder+\"color_mapping_image_grey.png\", tmp)"
   ]
  },
  {
   "cell_type": "code",
   "execution_count": null,
   "id": "00a56b63-2dba-4957-b5c0-e095deba5a97",
   "metadata": {
    "tags": []
   },
   "outputs": [],
   "source": [
    "packed_bytes = merge_to_byte(C)"
   ]
  },
  {
   "cell_type": "code",
   "execution_count": null,
   "id": "28d2e775-ec68-4678-be8e-2d58b3d266e4",
   "metadata": {
    "tags": []
   },
   "outputs": [],
   "source": [
    "save_as_grey(packed_bytes, orig_shape)"
   ]
  },
  {
   "cell_type": "code",
   "execution_count": null,
   "id": "f2b298b6-c10b-4701-802b-948597fb792c",
   "metadata": {
    "tags": []
   },
   "outputs": [],
   "source": [
    "np.save(output_folder+\"16_colors\", centroids)"
   ]
  },
  {
   "cell_type": "code",
   "execution_count": null,
   "id": "7f6d2b1a-4d26-4572-b0bc-1221ed304410",
   "metadata": {},
   "outputs": [],
   "source": []
  },
  {
   "cell_type": "markdown",
   "id": "bf0cbc49-f9eb-4e6d-b584-89275c3d5e24",
   "metadata": {},
   "source": [
    "### Compression Evaluation:"
   ]
  },
  {
   "cell_type": "code",
   "execution_count": null,
   "id": "c865cae2-e15d-4d35-b86b-c6d2ae1b0a11",
   "metadata": {
    "tags": []
   },
   "outputs": [],
   "source": [
    "def get_foldercontent_size(folder_path):\n",
    "    \n",
    "    tsize = 0\n",
    "    \n",
    "    for file in os.listdir(folder_path):\n",
    "        tsize += os.path.getsize(folder_path + file)\n",
    "\n",
    "    return np.round(tsize/1024, 2)"
   ]
  },
  {
   "cell_type": "code",
   "execution_count": null,
   "id": "1d134fab-6509-4b60-a4ba-055914e5c280",
   "metadata": {
    "tags": []
   },
   "outputs": [],
   "source": [
    "input_size = get_foldercontent_size(input_folder)"
   ]
  },
  {
   "cell_type": "code",
   "execution_count": null,
   "id": "9b540805-b890-4b01-96b1-32461abcce0f",
   "metadata": {
    "tags": []
   },
   "outputs": [],
   "source": [
    "output_size = get_foldercontent_size(output_folder)"
   ]
  },
  {
   "cell_type": "code",
   "execution_count": null,
   "id": "c1ee8eb4-1205-460c-a7c7-179fec50d8a3",
   "metadata": {
    "tags": []
   },
   "outputs": [],
   "source": [
    "ratio = ((input_size - output_size) / input_size) * 100\n",
    "compression_ratio = np.round(ratio, 2)"
   ]
  },
  {
   "cell_type": "code",
   "execution_count": null,
   "id": "b63ba4af-4ecb-46cc-ba66-8ec025c59b21",
   "metadata": {
    "tags": []
   },
   "outputs": [],
   "source": [
    "cratio = (output_size/input_size)*100\n",
    "cratio = np.round(cratio, 2)"
   ]
  },
  {
   "cell_type": "code",
   "execution_count": null,
   "id": "dce9fa35-bf87-4362-8aa3-42b62a83db6e",
   "metadata": {
    "tags": []
   },
   "outputs": [],
   "source": [
    "result_string = \"\"\"\n",
    "Compression Evaluation Results:\n",
    "--------------------------------\n",
    "\n",
    "Input Image:\n",
    "- Filename: {0}\n",
    "- Size: {1} KB\n",
    "\n",
    "Output Image (Compressed):\n",
    "- Filename: {2}\n",
    "- Size: {3} KB\n",
    "\n",
    "Compression Details:\n",
    "- Original Image Size: {1} KB\n",
    "- Compressed Image Size: {3} KB\n",
    "- Compression Ratio ≈ {4}%\n",
    "\n",
    "This represents a compression ratio of approximately {4}%, \n",
    "indicating that the compressed image is roughly {5}% of the size of the original image.\n",
    "\"\"\".format(input_filename, input_size, os.listdir(output_folder), output_size, compression_ratio, cratio)\n",
    "\n",
    "print(result_string)"
   ]
  },
  {
   "cell_type": "code",
   "execution_count": null,
   "id": "cf5e85bf-5964-4c93-b36e-d18237980424",
   "metadata": {
    "tags": []
   },
   "outputs": [],
   "source": []
  },
  {
   "cell_type": "markdown",
   "id": "b6d4be8c-c9d2-4ac1-9e2a-9f611fd96674",
   "metadata": {
    "tags": []
   },
   "source": [
    "### Comparsion: Original & Compressed Image"
   ]
  },
  {
   "cell_type": "code",
   "execution_count": null,
   "id": "a9149da1-0580-428b-b4d0-57499165cfef",
   "metadata": {
    "tags": []
   },
   "outputs": [],
   "source": [
    "cm = cv2.imread(output_folder+\"color_mapping_image_grey.png\", cv2.IMREAD_GRAYSCALE)"
   ]
  },
  {
   "cell_type": "code",
   "execution_count": null,
   "id": "fdfbef71-a226-41a7-b90d-56ce072d4fd1",
   "metadata": {
    "tags": []
   },
   "outputs": [],
   "source": [
    "cm = np.reshape(cm, (cm.shape[0] * cm.shape[1], 1)).squeeze()"
   ]
  },
  {
   "cell_type": "code",
   "execution_count": null,
   "id": "fc26c3a5-222f-467b-8bbe-fb780a877701",
   "metadata": {
    "tags": []
   },
   "outputs": [],
   "source": [
    "def split_byte(cm):\n",
    "    \n",
    "    m = len(cm)\n",
    "    unpacked_bytes = []\n",
    "    \n",
    "    for i in range(m):\n",
    "        \n",
    "        n2 = cm[i] >> 4\n",
    "        n1 = cm[i] & 0b00001111\n",
    "        \n",
    "        unpacked_bytes.append(n1)\n",
    "        unpacked_bytes.append(n2)\n",
    "        \n",
    "    return unpacked_bytes\n",
    "    "
   ]
  },
  {
   "cell_type": "code",
   "execution_count": null,
   "id": "960afc2f-3896-4b27-af7d-eec71d368c00",
   "metadata": {
    "tags": []
   },
   "outputs": [],
   "source": [
    "unpacked_bytes = split_byte(cm)\n",
    "C = np.array(unpacked_bytes)"
   ]
  },
  {
   "cell_type": "code",
   "execution_count": null,
   "id": "1b8c79f3-9f61-4601-a8ee-dd3c8f5a17ad",
   "metadata": {},
   "outputs": [],
   "source": [
    "# Image is recovered from the indices by mapping each pixel to the corresponding cluster centroid\n",
    "\n",
    "X_recovered = centroids[C.astype(int).tolist(),:]"
   ]
  },
  {
   "cell_type": "code",
   "execution_count": null,
   "id": "440c1ccc-f3d5-483a-b116-d0d4fdd6f913",
   "metadata": {},
   "outputs": [],
   "source": [
    "# Reshape the recovered image into proper dimensions\n",
    "\n",
    "# X_recovered = np.reshape(X_recovered, (img.shape[0], img.shape[1], 3))\n",
    "X_recovered = np.reshape(X_recovered, orig_shape)"
   ]
  },
  {
   "cell_type": "code",
   "execution_count": null,
   "id": "4290991b-86ed-4171-aed6-7a55b5aeb893",
   "metadata": {},
   "outputs": [],
   "source": [
    "fig, axs = plt.subplots(1,2, squeeze=False, figsize=(15, 15))\n",
    "axs[0,0].imshow(img)\n",
    "axs[0,0].set_title(\"Original Image\")\n",
    "axs[0,1].imshow(X_recovered)\n",
    "axs[0,1].set_title(\"Compressed Image\")"
   ]
  },
  {
   "cell_type": "code",
   "execution_count": null,
   "id": "f07a0b8a-15f4-4e15-8d63-212faa58fae9",
   "metadata": {},
   "outputs": [],
   "source": []
  },
  {
   "cell_type": "code",
   "execution_count": null,
   "id": "98894984-d733-47d4-8f06-9b30306dcf47",
   "metadata": {},
   "outputs": [],
   "source": []
  }
 ],
 "metadata": {
  "kernelspec": {
   "display_name": "Python 3 (ipykernel)",
   "language": "python",
   "name": "python3"
  },
  "language_info": {
   "codemirror_mode": {
    "name": "ipython",
    "version": 3
   },
   "file_extension": ".py",
   "mimetype": "text/x-python",
   "name": "python",
   "nbconvert_exporter": "python",
   "pygments_lexer": "ipython3",
   "version": "3.10.3"
  },
  "toc-showmarkdowntxt": false
 },
 "nbformat": 4,
 "nbformat_minor": 5
}
